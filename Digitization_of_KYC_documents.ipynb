{
 "cells": [
  {
   "cell_type": "markdown",
   "id": "7e1eeb65",
   "metadata": {},
   "source": [
    "### IMPORT LIBRARIES"
   ]
  },
  {
   "cell_type": "code",
   "execution_count": 1,
   "id": "7a4dbb3a",
   "metadata": {},
   "outputs": [],
   "source": [
    "import os\n",
    "import pytesseract\n",
    "import pandas as pd\n",
    "import re"
   ]
  },
  {
   "cell_type": "markdown",
   "id": "dfc059a6",
   "metadata": {},
   "source": [
    "### AADHAR/PAN CARD PATH"
   ]
  },
  {
   "cell_type": "code",
   "execution_count": 2,
   "id": "d7c55578",
   "metadata": {},
   "outputs": [
    {
     "data": {
      "text/plain": [
       "['Aadhar_dipika.jpg',\n",
       " 'Aadhar_nitin.jpg',\n",
       " 'Aadhar_prakash.jpg',\n",
       " 'Aadhar_priyanka.jpg',\n",
       " 'PAN_dipika.jpg',\n",
       " 'PAN_nitin.jpg',\n",
       " 'PAN_prakash.jpg',\n",
       " 'PAN_priyanka.jpg']"
      ]
     },
     "execution_count": 2,
     "metadata": {},
     "output_type": "execute_result"
    }
   ],
   "source": [
    "path = r\"C:\\Program Files\\Tesseract-OCR\\tesseract.exe\"                          # Giving tesseract path.\n",
    "folder_path=r\"F:\\Final Projects\\Digitization_of_KYC_documents\\Document images\"  # Giving a file path.\n",
    "file_names=os.listdir(folder_path)                                              # get list of dirctory at given file path\n",
    "file_names"
   ]
  },
  {
   "cell_type": "markdown",
   "id": "fc184590",
   "metadata": {},
   "source": [
    "### AADHAR/PAN CARD DATA"
   ]
  },
  {
   "cell_type": "code",
   "execution_count": 3,
   "id": "c12896ac",
   "metadata": {},
   "outputs": [],
   "source": [
    "adhar_name_list=[]                                                            # Create empty list to append Aadhar name.\n",
    "adhar_no_list=[]                                                              # Create empty list to append Aadhar number.\n",
    "pan_no_list=[]\n",
    "for file in file_names:\n",
    "    if file.startswith(\"Aadhar\"):\n",
    "        image_path=os.path.join(folder_path,file)\n",
    "        pytesseract.pytesseract.tesseract_cmd=path\n",
    "        \n",
    "        text=pytesseract.image_to_string(image_path)                                          # Converting the image to string(text format).\n",
    "        pattern_adhar_name=re.findall(r\"\\b[A-Z]\\w{4,7}\\s[A-Z]\\w{4,12}\\s[A-Z]\\w{3,10}\\b\",text) #Find the Adhar Name which matches the pattern.\n",
    "         \n",
    "        if pattern_adhar_name:\n",
    "            adhar_name_list.append(pattern_adhar_name[0])                    # To append Aadhar Name inside a list.\n",
    "            \n",
    "        else:\n",
    "            adhar_name_list.append(\"\")\n",
    "            \n",
    "        pattern_adhar_no=re.findall(r\"\\d{4}\\s\\d{4}\\s\\d{4}\",text)                             #Find the Adhar Number which matches the pattern.\n",
    "        \n",
    "        if pattern_adhar_no:\n",
    "            adhar_no_list.append(pattern_adhar_no[0])                        # To append Aadhar Number inside a list.\n",
    "            \n",
    "        else:\n",
    "            adhar_no_list.append(\"\")\n",
    "    if file.startswith(\"PAN\"):\n",
    "        image_path=os.path.join(folder_path,file)\n",
    "        pytesseract.pytesseract.tesseract_cmd=path\n",
    "        \n",
    "        text=pytesseract.image_to_string(image_path)\n",
    "        pattern_pan_no=re.findall(r\"[A-Z]{5}\\d{4}[A-Z]{1}\",text)\n",
    "         \n",
    "        if pattern_pan_no:\n",
    "            pan_no_list.append(pattern_pan_no[0])\n",
    "            \n",
    "        else:\n",
    "            pan_no_list.append(\"\")\n",
    "            \n",
    "        pattern_pan_no=re.findall(r\"[A-Z]{5}\\d{4}[A-Z]{1}\",text)"
   ]
  },
  {
   "cell_type": "markdown",
   "id": "f84b7f2b",
   "metadata": {},
   "source": [
    "### Aadhar card and PAN card Dataframe"
   ]
  },
  {
   "cell_type": "code",
   "execution_count": 4,
   "id": "285658f7",
   "metadata": {},
   "outputs": [
    {
     "data": {
      "text/html": [
       "<div>\n",
       "<style scoped>\n",
       "    .dataframe tbody tr th:only-of-type {\n",
       "        vertical-align: middle;\n",
       "    }\n",
       "\n",
       "    .dataframe tbody tr th {\n",
       "        vertical-align: top;\n",
       "    }\n",
       "\n",
       "    .dataframe thead th {\n",
       "        text-align: right;\n",
       "    }\n",
       "</style>\n",
       "<table border=\"1\" class=\"dataframe\">\n",
       "  <thead>\n",
       "    <tr style=\"text-align: right;\">\n",
       "      <th></th>\n",
       "      <th>Aadhar Holder Name</th>\n",
       "      <th>Adhar Number</th>\n",
       "      <th>PAN Number</th>\n",
       "    </tr>\n",
       "  </thead>\n",
       "  <tbody>\n",
       "    <tr>\n",
       "      <th>0</th>\n",
       "      <td>Dipika Vijaykumar Chaudhari</td>\n",
       "      <td>4736 1549 6628</td>\n",
       "      <td>BUOPC4357H</td>\n",
       "    </tr>\n",
       "    <tr>\n",
       "      <th>1</th>\n",
       "      <td>Nitin Ashok Pati</td>\n",
       "      <td>5787 4571 6828</td>\n",
       "      <td>COBPP6013B</td>\n",
       "    </tr>\n",
       "    <tr>\n",
       "      <th>2</th>\n",
       "      <td>Prakash Bharat Sutar</td>\n",
       "      <td>7159 1532 0908</td>\n",
       "      <td>LVCPS1738P</td>\n",
       "    </tr>\n",
       "    <tr>\n",
       "      <th>3</th>\n",
       "      <td>Priyanka Siddarth\\nWaghmare</td>\n",
       "      <td>4625 2896 9810</td>\n",
       "      <td>ADYPW2307D</td>\n",
       "    </tr>\n",
       "  </tbody>\n",
       "</table>\n",
       "</div>"
      ],
      "text/plain": [
       "            Aadhar Holder Name    Adhar Number  PAN Number\n",
       "0  Dipika Vijaykumar Chaudhari  4736 1549 6628  BUOPC4357H\n",
       "1             Nitin Ashok Pati  5787 4571 6828  COBPP6013B\n",
       "2         Prakash Bharat Sutar  7159 1532 0908  LVCPS1738P\n",
       "3  Priyanka Siddarth\\nWaghmare  4625 2896 9810  ADYPW2307D"
      ]
     },
     "execution_count": 4,
     "metadata": {},
     "output_type": "execute_result"
    }
   ],
   "source": [
    "dict1={\"Aadhar Holder Name\":adhar_name_list,\"Adhar Number\":adhar_no_list,\"PAN Number\":pan_no_list}\n",
    "df=pd.DataFrame(dict1)          # Creating the Data frame of Aadhar and PAN card.\n",
    "df"
   ]
  },
  {
   "cell_type": "code",
   "execution_count": 5,
   "id": "a6182eb3",
   "metadata": {},
   "outputs": [],
   "source": [
    "df.to_csv(\"Aadhar and PAN.csv\")       # Creating a .csv file"
   ]
  }
 ],
 "metadata": {
  "kernelspec": {
   "display_name": "Python 3 (ipykernel)",
   "language": "python",
   "name": "python3"
  },
  "language_info": {
   "codemirror_mode": {
    "name": "ipython",
    "version": 3
   },
   "file_extension": ".py",
   "mimetype": "text/x-python",
   "name": "python",
   "nbconvert_exporter": "python",
   "pygments_lexer": "ipython3",
   "version": "3.11.4"
  }
 },
 "nbformat": 4,
 "nbformat_minor": 5
}
